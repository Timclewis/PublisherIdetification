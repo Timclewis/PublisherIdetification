{
 "cells": [
  {
   "cell_type": "code",
   "execution_count": 84,
   "id": "707bab6b",
   "metadata": {},
   "outputs": [
    {
     "name": "stdout",
     "output_type": "stream",
     "text": [
      "Tensorflow version 2.5.0\n",
      "[PhysicalDevice(name='/physical_device:GPU:0', device_type='GPU')]\n"
     ]
    }
   ],
   "source": [
    "import tensorflow as tf\n",
    "import keras as k\n",
    "import matplotlib.pyplot as plt\n",
    "import matplotlib.image as mpimg\n",
    "import random as r\n",
    "import numpy as np\n",
    "import cv2\n",
    "import imghdr\n",
    "import os\n",
    "import itertools\n",
    "import datetime\n",
    "\n",
    "from sklearn.metrics import confusion_matrix\n",
    "from keras.preprocessing.image import ImageDataGenerator, load_img\n",
    "from tensorflow.keras.optimizers import RMSprop, Adam, SGD\n",
    "from tensorflow.keras.applications import ResNet50V2, Xception, EfficientNetB3, EfficientNetB4, EfficientNetB5\n",
    "from tensorflow.keras import layers\n",
    "from tensorflow.keras.models import Model, load_model\n",
    "from keras import backend\n",
    "from collections import Counter\n",
    "from PIL import ImageFile, Image\n",
    "ImageFile.LOAD_TRUNCATED_IMAGES = True\n",
    "  \n",
    "print(f'Tensorflow version {tf.version.VERSION}')\n",
    "physical_devices = tf.config.list_physical_devices('GPU')\n",
    "print(physical_devices)\n",
    "tf.config.experimental.set_memory_growth(physical_devices[0], True)\n"
   ]
  },
  {
   "cell_type": "markdown",
   "id": "f282d503",
   "metadata": {},
   "source": [
    "## Data processing"
   ]
  },
  {
   "cell_type": "code",
   "execution_count": 85,
   "id": "1f337173",
   "metadata": {
    "scrolled": false
   },
   "outputs": [],
   "source": [
    "PATH_TRAIN = 'C:/Users/crims/Tensorflow/PublisherIdetification/realpublishers/training/'\n",
    "PATH_TEST = 'C:/Users/crims/Tensorflow/PublisherIdetification/realpublishers/testing/'\n",
    "\n",
    "class DataGenerator:\n",
    "    def __init__(self, val_split, height, width, batch_size):\n",
    "        self.val_split = val_split\n",
    "        self.height = height\n",
    "        self.width = width\n",
    "        self.batch_size = batch_size\n",
    "    \n",
    "    def train_generator(self):    \n",
    "        train_generator = ImageDataGenerator(rescale=1./255, validation_split=self.val_split)\n",
    "        print('Training folder:')\n",
    "        self.train_data = train_generator.flow_from_directory(PATH_TRAIN, target_size=(self.width, self.height),\n",
    "                                                     class_mode = 'categorical', batch_size=BATCH_SIZE, \n",
    "                                                     subset = 'training')\n",
    "        print('Validation folder:')\n",
    "        self.valid_data = train_generator.flow_from_directory(PATH_TRAIN, target_size=(self.width, self.height),\n",
    "                                                     class_mode = 'categorical', batch_size=self.batch_size, \n",
    "                                                     subset = 'validation')\n",
    "\n",
    "    def test_generator(self):\n",
    "        test_generator = ImageDataGenerator(rescale=1./255)\n",
    "        print('Test folder:')\n",
    "        self.test_data = test_generator.flow_from_directory(PATH_TEST, target_size=(WIDTH, HEIGHT), \n",
    "                                                   class_mode=None, batch_size=1, \n",
    "                                                   shuffle=False)\n",
    "    def generator_info(self):\n",
    "        self.class_counter = list(Counter(self.train_data.classes).values())\n",
    "        self.class_names = list(self.train_data.class_indices)\n",
    "        self.class_num = self.train_data.num_classes\n",
    "        print(f'Class name and # {dict(zip(self.class_names, self.class_counter))}') \n",
    "\n",
    "    def clean_data(self):\n",
    "        self.filenames = self.train_data.filenames\n",
    "        n = 0\n",
    "        while n < self.train_data.n:\n",
    "            path = f'{PATH_TRAIN}{self.filenames[n]}'\n",
    "            image = cv2.imread(path)\n",
    "            img_type = imghdr.what(path)\n",
    "            if img_type != \"jpeg\":\n",
    "                print(f'Removing image from {path}')\n",
    "                os.remove(path)\n",
    "                n += 1\n",
    "            else:\n",
    "                n += 1\n",
    "        print('All done!') "
   ]
  },
  {
   "cell_type": "code",
   "execution_count": 100,
   "id": "04dd23b8",
   "metadata": {},
   "outputs": [],
   "source": [
    "# class ConfusionMatrix:\n",
    "#     def plot_confusion_matrix(cm, class_names):\n",
    "#       \"\"\"\n",
    "#       Returns a matplotlib figure containing the plotted confusion matrix.\n",
    "\n",
    "#       Args:\n",
    "#         cm (array, shape = [n, n]): a confusion matrix of integer classes\n",
    "#         class_names (array, shape = [n]): String names of the integer classes\n",
    "#       \"\"\"\n",
    "#       figure = plt.figure(figsize=(8, 8))\n",
    "#       plt.imshow(cm, interpolation='nearest', cmap=plt.cm.Blues)\n",
    "#       plt.title(\"Confusion matrix\")\n",
    "#       plt.colorbar()\n",
    "#       tick_marks = np.arange(len(class_names))\n",
    "#       plt.xticks(tick_marks, class_names, rotation=45)\n",
    "#       plt.yticks(tick_marks, class_names)\n",
    "\n",
    "#       # Normalize the confusion matrix.\n",
    "#       cm = np.around(cm.astype('float') / cm.sum(axis=1)[:, np.newaxis], decimals=2)\n",
    "\n",
    "#       # Use white text if squares are dark; otherwise black.\n",
    "#       threshold = cm.max() / 2.\n",
    "#       for i, j in itertools.product(range(cm.shape[0]), range(cm.shape[1])):\n",
    "#         color = \"white\" if cm[i, j] > threshold else \"black\"\n",
    "#         plt.text(j, i, cm[i, j], horizontalalignment=\"center\", color=color)\n",
    "\n",
    "#       plt.tight_layout()\n",
    "#       plt.ylabel('True label')\n",
    "#       plt.xlabel('Predicted label')\n",
    "#       return figure\n",
    "\n",
    "#     def log_confusion_matrix(epoch, logs):\n",
    "#       # Use the model to predict the values from the validation dataset.\n",
    "#       test_pred_raw = model.predict(x_test)\n",
    "#       test_pred = np.argmax(test_pred_raw, axis=1)\n",
    "#       y_test_cls = np.argmax(y_test, axis=1)\n",
    "\n",
    "#       # Calculate the confusion matrix.\n",
    "#       cm = confusion_matrix(y_test_cls, test_pred)\n",
    "\n",
    "#       figure = plot_confusion_matrix(cm, class_names=class_names)\n",
    "#       cm_image = plot_to_image(figure)\n",
    "\n",
    "#       # Log the confusion matrix as an image summary.\n",
    "#       with file_writer_cm.as_default():\n",
    "#         tf.summary.image(\"Confusion Matrix\", cm_image, step=epoch)\n",
    "\n",
    "#     # Define the per-epoch callback to plot confusion metrics after each epoch.\n",
    "#     cm_callback = tf.keras.callbacks.LambdaCallback(on_epoch_end=log_confusion_matrix)"
   ]
  },
  {
   "cell_type": "markdown",
   "id": "fd08ff03",
   "metadata": {},
   "source": [
    "## Model setup & parameters"
   ]
  },
  {
   "cell_type": "code",
   "execution_count": 146,
   "id": "81fff37a",
   "metadata": {
    "scrolled": true
   },
   "outputs": [],
   "source": [
    "class BuildModel:\n",
    "    def __init__(self, network, pooling, optimizer, learn_rate, epochs, steps):\n",
    "        self.network = network\n",
    "        self.lr = learn_rate\n",
    "        self.opt = optimizer\n",
    "        self.pool = pooling\n",
    "        self.epochs = epochs\n",
    "        self.num_batch = steps\n",
    "        self.val_batch = steps * dat1.val_split\n",
    "        \n",
    "    def compile_model(self):\n",
    "        base = self.network(include_top=False, weights='imagenet', \n",
    "                     input_shape=(dat1.width, dat1.height, 3), pooling=self.pool)\n",
    "        opt = self.opt(learning_rate=self.lr)\n",
    "        \n",
    "        x = base.output\n",
    "        x = layers.Dense(dat1.class_num, activation='softmax')(x)\n",
    "        self.model = tf.keras.Model(base.input, x)\n",
    "        self.model.compile(loss='categorical_crossentropy', metrics=['acc'], optimizer=opt)    \n",
    "              \n",
    "    def run_model(self, summary, save):\n",
    "        if summary == True:\n",
    "            self.model.summary()\n",
    "            \n",
    "        current_time = datetime.datetime.now().strftime(\"%Y%m%d-%H%M\")    \n",
    "        tensorflow_callback = k.callbacks.TensorBoard(\n",
    "            log_dir= f'tensorboard_logs/{self.network.__name__}{self.pool}_{self.opt.__name__}lr{self.lr}_E{self.epochs}B{dat1.batch_size}-{current_time}', \n",
    "            histogram_freq=1, write_graph=True, write_images=True)\n",
    "        #file_writer_cm = tf.summary.create_file_writer(f'tensorboard_logs/{NETWORK}_{OPTIMIZER}_E{EPOCHS}B{BATCH_SIZE}_lr{LEARN_RATE}_pool{POOLING}/cm')       \n",
    "        history = self.model.fit(dat1.train_data, validation_data=dat1.valid_data, \n",
    "                            callbacks=[tensorflow_callback], epochs=self.epochs, \n",
    "                            steps_per_epoch=self.num_batch , validation_steps=self.val_batch, \n",
    "                            batch_size=dat1.batch_size, verbose =1)\n",
    "          \n",
    "        if save == True:\n",
    "            model.save(f'{NETWORK}_publisherid - {current_time}')\n"
   ]
  },
  {
   "cell_type": "code",
   "execution_count": null,
   "id": "75b8ee38",
   "metadata": {
    "scrolled": true
   },
   "outputs": [
    {
     "name": "stdout",
     "output_type": "stream",
     "text": [
      "Training folder:\n",
      "Found 9809 images belonging to 4 classes.\n",
      "Validation folder:\n",
      "Found 3269 images belonging to 4 classes.\n",
      "Class name and # {'IEEE': 144, 'Macmillan': 2586, 'Springer Nature': 5768, 'Wolters Kluwer Health': 1311}\n"
     ]
    },
    {
     "name": "stderr",
     "output_type": "stream",
     "text": [
      "C:\\Users\\crims\\anaconda3\\envs\\tensorflow\\lib\\site-packages\\tensorflow\\python\\keras\\utils\\generic_utils.py:494: CustomMaskWarning: Custom mask layers require a config and must override get_config. When loading, the custom mask layer must be passed to the custom_objects argument.\n",
      "  warnings.warn('Custom mask layers require a config and must override '\n"
     ]
    },
    {
     "name": "stdout",
     "output_type": "stream",
     "text": [
      "Epoch 1/15\n",
      "100/100 [==============================] - 65s 522ms/step - loss: 0.6745 - acc: 0.7631 - val_loss: 1.1567 - val_acc: 0.5775\n",
      "Epoch 2/15\n",
      "100/100 [==============================] - 48s 477ms/step - loss: 0.4000 - acc: 0.8637 - val_loss: 0.9254 - val_acc: 0.6212\n",
      "Epoch 3/15\n",
      "100/100 [==============================] - 48s 477ms/step - loss: 0.3232 - acc: 0.8819 - val_loss: 1.0927 - val_acc: 0.4725\n",
      "Epoch 4/15\n",
      "100/100 [==============================] - 48s 475ms/step - loss: 0.2860 - acc: 0.9038 - val_loss: 1.3401 - val_acc: 0.3913\n",
      "Epoch 5/15\n",
      "100/100 [==============================] - 47s 473ms/step - loss: 0.2344 - acc: 0.9199 - val_loss: 0.8437 - val_acc: 0.6737\n",
      "Epoch 6/15\n",
      " 94/100 [===========================>..] - ETA: 2s - loss: 0.1720 - acc: 0.9428"
     ]
    }
   ],
   "source": [
    "dat1 = DataGenerator(0.25, 300, 200, 32)\n",
    "dat1.train_generator()\n",
    "dat1.generator_info()\n",
    "mod1 = BuildModel(EfficientNetB4, 'avg', Adam, 1e-4, 15, 100) #xception ~ 5e-4, efficient ~ 9e-5\n",
    "mod1.compile_model()\n",
    "mod1.run_model(False, False)"
   ]
  },
  {
   "cell_type": "markdown",
   "id": "9ec2b476",
   "metadata": {},
   "source": [
    "## Model evaluation "
   ]
  },
  {
   "cell_type": "code",
   "execution_count": null,
   "id": "c6d1a0f0",
   "metadata": {
    "scrolled": true
   },
   "outputs": [],
   "source": [
    "# plt.figure(figsize=(12, 6))\n",
    "# plt.subplot(121)\n",
    "# plt.plot(history.history['loss'])\n",
    "# plt.plot(history.history['val_loss'])\n",
    "# plt.title('model loss')\n",
    "# plt.ylabel('loss')\n",
    "# plt.ylim([0, 1])\n",
    "# plt.xlabel('epoch')\n",
    "# plt.xlim([0, EPOCHS])\n",
    "# plt.grid()\n",
    "# plt.legend(['train', 'valid'], loc='upper left')\n",
    "\n",
    "# plt.subplot(122)\n",
    "# plt.plot(history.history['acc'])\n",
    "# plt.plot(history.history['val_acc'])\n",
    "# plt.title('model accuracy')\n",
    "# plt.ylabel('accuracy')\n",
    "# plt.ylim([0.3, 1])\n",
    "# plt.xlabel('epoch')\n",
    "# plt.xlim([0, EPOCHS])\n",
    "# plt.legend(['train', 'valid'], loc='upper left')\n",
    "# plt.grid()\n",
    "# plt.show()"
   ]
  },
  {
   "cell_type": "markdown",
   "id": "bd6e90a6",
   "metadata": {},
   "source": [
    "## Predictor"
   ]
  },
  {
   "cell_type": "code",
   "execution_count": 212,
   "id": "50ca5394",
   "metadata": {
    "scrolled": false
   },
   "outputs": [],
   "source": [
    "class Predictor:\n",
    "    def predict(self):\n",
    "        n = r.randint(0, dat1.valid_data.n)\n",
    "        filenames = dat1.valid_data.filenames\n",
    "        path = f'{PATH_TRAIN}{filenames[n]}'\n",
    "        pic = mpimg.imread(path)\n",
    "        plt.axis('off')\n",
    "        plt.imshow(pic)\n",
    "        plt.show()\n",
    "\n",
    "        img = tf.keras.preprocessing.image.load_img(path, target_size=(dat1.width, dat1.height))\n",
    "        img_array = tf.keras.preprocessing.image.img_to_array(img)\n",
    "        img_batch = np.expand_dims(img_array, axis=0)\n",
    "        img_processed = tf.keras.applications.xception.preprocess_input(img_batch)\n",
    "\n",
    "        prediction = mod1.model(img_processed, training=False)\n",
    "        Top_index = np.argsort(np.max(prediction, axis=0))[-1]\n",
    "        Second_index = np.argsort(np.max(prediction, axis=0))[-2]\n",
    "\n",
    "        sort = np.sort(max(prediction))\n",
    "        print(f'1st predict {dat1.class_names[Top_index]} with conf {round(sort[len(sort) - 1]*100)}%')\n",
    "        print(f'2nd predict {dat1.class_names[Second_index]} with conf {round(sort[len(sort) - 2] * 100)}%')           \n",
    "        print(f'Answer is {filenames[n][:]}')\n",
    "        \n",
    "    def batch_predict(self):\n",
    "        gu = mod1.model.evaluate(dat1.valid_data, batch_size=dat1.batch_size, steps=10)\n"
   ]
  },
  {
   "cell_type": "code",
   "execution_count": 213,
   "id": "7853be63",
   "metadata": {},
   "outputs": [
    {
     "data": {
      "image/png": "[encoded data removed]",
      "text/plain": [
       "<Figure size 432x288 with 1 Axes>"
      ]
     },
     "metadata": {
      "needs_background": "light"
     },
     "output_type": "display_data"
    },
    {
     "name": "stdout",
     "output_type": "stream",
     "text": [
      "1st predict Springer Nature with conf 94%\n",
      "2nd predict Macmillan with conf 4%\n",
      "Answer is Springer Nature\\Thumbnail262.jpg\n",
      "10/10 [==============================] - 2s 154ms/step - loss: 2.2712 - acc: 0.2188\n"
     ]
    }
   ],
   "source": [
    "predict1 = Predictor()\n",
    "predict1.predict()\n",
    "predict1.batch_predict()"
   ]
  },
  {
   "cell_type": "code",
   "execution_count": null,
   "id": "009393ad",
   "metadata": {},
   "outputs": [],
   "source": []
  }
 ],
 "metadata": {
  "kernelspec": {
   "display_name": "tensorflow",
   "language": "python",
   "name": "tensorflow"
  },
  "language_info": {
   "codemirror_mode": {
    "name": "ipython",
    "version": 3
   },
   "file_extension": ".py",
   "mimetype": "text/x-python",
   "name": "python",
   "nbconvert_exporter": "python",
   "pygments_lexer": "ipython3",
   "version": "3.8.10"
  }
 },
 "nbformat": 4,
 "nbformat_minor": 5
}
