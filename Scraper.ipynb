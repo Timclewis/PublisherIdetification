{
 "cells": [
  {
   "cell_type": "code",
   "execution_count": 102,
   "id": "e6e96ed3",
   "metadata": {
    "scrolled": true
   },
   "outputs": [],
   "source": [
    "import requests\n",
    "from bs4 import BeautifulSoup\n",
    "from selenium import webdriver\n",
    "from selenium.webdriver.common.keys import Keys\n",
    "import time\n",
    "pages = list(range(1,14))\n",
    "#url of the page we want to scrape\n",
    "for n in pages:\n",
    "    url = f'https://ieeexplore.ieee.org/browse/books/title?rowsPerPage=100&sortType=pub-title-asc&refinements=Publisher:IEEE&pageNumber={n}'     \n",
    "    # initiating the webdriver. Parameter includes the path of the webdriver.\n",
    "    driver = webdriver.Opera(executable_path=r'C:/Users/crims/Tensorflow/PublisherIdetification/operadriver.exe') \n",
    "    driver.minimize_window()\n",
    "    driver.get(url) \n",
    "\n",
    "    # this is just to ensure that the page is loaded\n",
    "    time.sleep(6) \n",
    "    html = driver.page_source\n",
    "\n",
    "    # this renders the JS code and stores all\n",
    "    # of the information in static HTML code.\n",
    "\n",
    "    # Now, we could simply apply bs4 to html variable\n",
    "    soup = BeautifulSoup(html, \"html.parser\")\n",
    "    #all_h2 = soup.find('h2')\n",
    "    for link in soup.findAll('h2'):\n",
    "        wma1 = link.find('a')\n",
    "        wma2 = wma1.get(\"href\")\n",
    "        wma3 = wma2[-9:]\n",
    "        wma4 = wma3[:8]\n",
    "        link = f'{wma4}{wma4}.jpg'\n",
    "        with open(\"IEEE.txt\", \"a\") as myfile:\n",
    "            myfile.write(f'https://ieeexplore.ieee.org/ebooks{link}\\n')\n"
   ]
  },
  {
   "cell_type": "code",
   "execution_count": null,
   "id": "2cca2681",
   "metadata": {},
   "outputs": [],
   "source": []
  }
 ],
 "metadata": {
  "kernelspec": {
   "display_name": "Python 3",
   "language": "python",
   "name": "python3"
  },
  "language_info": {
   "codemirror_mode": {
    "name": "ipython",
    "version": 3
   },
   "file_extension": ".py",
   "mimetype": "text/x-python",
   "name": "python",
   "nbconvert_exporter": "python",
   "pygments_lexer": "ipython3",
   "version": "3.8.10"
  }
 },
 "nbformat": 4,
 "nbformat_minor": 5
}
